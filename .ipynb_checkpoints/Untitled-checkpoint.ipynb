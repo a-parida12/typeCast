{
 "cells": [
  {
   "cell_type": "code",
   "execution_count": 2,
   "metadata": {},
   "outputs": [],
   "source": [
    "import pandas as pd\n",
    "import cPickle\n",
    "TweetLink=pd.read_csv(\"geotweets.csv\")"
   ]
  },
  {
   "cell_type": "code",
   "execution_count": 10,
   "metadata": {},
   "outputs": [
    {
     "data": {
      "text/plain": [
       "array(['https://t.co/X2gc2ieAFH', 'https://t.co/QcV0sXuVjK',\n",
       "       'https://t.co/MFkWv5FEhR', 'https://t.co/lC9feSJf3W',\n",
       "       'https://t.co/UnhW3GVPaM', 'https://t.co/KX918CGCD4',\n",
       "       'https://t.co/YT2F9Kv4RW', 'https://t.co/qIwzzBjFj2',\n",
       "       'https://t.co/noCQMznPRh', 'https://t.co/YWcVbufug6',\n",
       "       'https://t.co/68qz8UFg8v', 'https://t.co/noCQMznPRh',\n",
       "       'https://t.co/gjTJ9ERZ13', 'https://t.co/BORSiGxoRB',\n",
       "       'https://t.co/vVKQH3FTKP', 'https://t.co/DG3tafmn3t',\n",
       "       'https://t.co/uOHWYtz5Ew', 'https://t.co/2pf7A1ppTS',\n",
       "       'https://t.co/rh5irs5Wv3', 'https://t.co/LAiKLPD4jA',\n",
       "       'https://t.co/qO0d5JUwx2', 'https://t.co/eyx5Iijvr1',\n",
       "       'https://t.co/R5FpN64Cz1', 'https://t.co/rMXL0WGqfv',\n",
       "       'https://t.co/yGgCXpRlKB', 'https://t.co/vdNAbFDQqC',\n",
       "       'https://t.co/D55MRAaFpE', 'https://t.co/G9ZvWYhSfr',\n",
       "       'https://t.co/noCQMznPRh', 'https://t.co/noCQMznPRh',\n",
       "       'https://t.co/noCQMznPRh', 'https://t.co/noCQMznPRh',\n",
       "       'https://t.co/noCQMznPRh', 'https://t.co/noCQMznPRh',\n",
       "       'https://t.co/lCLQOVl3n7', 'https://t.co/UfSiAKkbOe',\n",
       "       'https://t.co/8e7ALJDl3R', 'https://t.co/noCQMznPRh',\n",
       "       'https://t.co/noCQMznPRh', 'https://t.co/6vtKQQE47t',\n",
       "       'https://t.co/6vtKQQE47t', 'https://t.co/KW6pOErV2a',\n",
       "       'https://t.co/noCQMznPRh', 'https://t.co/n2zeoV1okr',\n",
       "       'https://t.co/yKH9NHlvZ6', 'https://t.co/CbXvPCO4AG',\n",
       "       'https://t.co/noCQMznPRh', 'https://t.co/50dkA0cPrV',\n",
       "       'https://t.co/noCQMznPRh', 'https://t.co/noCQMznPRh',\n",
       "       'https://t.co/vZ8gBUTVIj', 'https://t.co/BkonC3k31l',\n",
       "       'https://t.co/s1vOHWGa7l', 'https://t.co/JPWl2YFEnt',\n",
       "       'https://t.co/edoisJquiJ', 'https://t.co/noCQMznPRh',\n",
       "       'https://t.co/mV8mslGaV1', 'https://t.co/9f6wehX0Nj',\n",
       "       'https://t.co/noCQMznPRh', 'https://t.co/noCQMznPRh',\n",
       "       'https://t.co/noCQMznPRh', 'https://t.co/noCQMznPRh',\n",
       "       'https://t.co/noCQMznPRh', 'https://t.co/noCQMznPRh',\n",
       "       'https://t.co/noCQMznPRh', 'https://t.co/noCQMznPRh',\n",
       "       'https://t.co/k4bWR226hV', 'https://t.co/noCQMznPRh',\n",
       "       'https://t.co/J2Ie7j2xwe', 'https://t.co/noCQMznPRh',\n",
       "       'https://t.co/iFyNltQ7AG', 'https://t.co/zBuVavv3hQ',\n",
       "       'https://t.co/noCQMznPRh', 'https://t.co/noCQMznPRh',\n",
       "       'https://t.co/am0oCRZ4df', 'https://t.co/XVHDqb9uia',\n",
       "       'https://t.co/sIuOnfRAwe', 'https://t.co/noCQMznPRh',\n",
       "       'https://t.co/noCQMznPRh', 'https://t.co/KpeHX5Fl6Z',\n",
       "       'https://t.co/aNqYe04o4r', 'https://t.co/IQBgy7iy3l',\n",
       "       'https://t.co/aX1YRt9ZLz', 'https://t.co/uPn19OhvkF',\n",
       "       'https://t.co/SjE5nlMQob', 'https://t.co/dZtLxCxZSb',\n",
       "       'https://t.co/olKDODnOrK', 'https://t.co/4WxqNUDgPV',\n",
       "       'https://t.co/4kCsoPAeHV', 'https://t.co/5Am3BQyhnT',\n",
       "       'https://t.co/7SUDvYckdw', 'https://t.co/noCQMznPRh',\n",
       "       'https://t.co/noCQMznPRh', 'https://t.co/noCQMznPRh',\n",
       "       'https://t.co/noCQMznPRh', 'https://t.co/DUEegf6FPz',\n",
       "       'https://t.co/noCQMznPRh', 'https://t.co/noCQMznPRh',\n",
       "       'https://t.co/Peh0yR2iJv', 'https://t.co/l4uIOpxuDu',\n",
       "       'https://t.co/noCQMznPRh', 'https://t.co/noCQMznPRh',\n",
       "       'https://t.co/I1TGfN93Io', 'https://t.co/ZbHlkhNuN9',\n",
       "       'https://t.co/noCQMznPRh', 'https://t.co/augXyLbl93'], dtype=object)"
      ]
     },
     "execution_count": 10,
     "metadata": {},
     "output_type": "execute_result"
    }
   ],
   "source": [
    "linkArray=TweetLink.dropna()['longitude'].values"
   ]
  },
  {
   "cell_type": "code",
   "execution_count": null,
   "metadata": {
    "collapsed": true
   },
   "outputs": [],
   "source": []
  }
 ],
 "metadata": {
  "kernelspec": {
   "display_name": "Python 3",
   "language": "python",
   "name": "python3"
  },
  "language_info": {
   "codemirror_mode": {
    "name": "ipython",
    "version": 3
   },
   "file_extension": ".py",
   "mimetype": "text/x-python",
   "name": "python",
   "nbconvert_exporter": "python",
   "pygments_lexer": "ipython3",
   "version": "3.6.3"
  }
 },
 "nbformat": 4,
 "nbformat_minor": 2
}
